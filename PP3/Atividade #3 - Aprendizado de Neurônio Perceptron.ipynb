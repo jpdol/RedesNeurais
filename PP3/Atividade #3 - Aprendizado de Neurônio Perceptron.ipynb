{
 "cells": [
  {
   "cell_type": "markdown",
   "metadata": {},
   "source": [
    "# Atividade #3 -- Aprendizado de Neurônio Perceptron\n",
    "\n",
    "A atividade consiste no aprendizado de um neurônio perceptron para a solução do problema linearmente separável da porta lógica NAND.\n",
    "\n",
    "- Jean Phelipe de Oliveira Lima - 1615080096\n",
    "- Rodrigo Gomes de Souza - 1715310022"
   ]
  },
  {
   "cell_type": "markdown",
   "metadata": {},
   "source": [
    "### Bibliotecas"
   ]
  },
  {
   "cell_type": "code",
   "execution_count": 1,
   "metadata": {},
   "outputs": [],
   "source": [
    "import numpy as np\n",
    "from random import uniform\n",
    "from matplotlib import pyplot as plt"
   ]
  },
  {
   "cell_type": "markdown",
   "metadata": {},
   "source": [
    "### Conjunto de Treinamento\n",
    "\n",
    "Entradas e Saídas relativas às combinações de entrada da porta lógica NAND\n",
    "\n",
    "\n",
    "X -> Conjunto das entradas, onde cada entrada fora acrescida de bias de valor -1.\n",
    "\n",
    "Y -> Conjunto das saidas relativas a cada entrada."
   ]
  },
  {
   "cell_type": "code",
   "execution_count": 2,
   "metadata": {},
   "outputs": [],
   "source": [
    "X = [[-1,0,0],[-1,0,1],[-1,1,0],[-1,1,1]] \n",
    "for i in range(len(X)):\n",
    "    X[i] = np.asarray(X[i]) \n",
    "\n",
    "Y = [1,1,1,0]"
   ]
  },
  {
   "cell_type": "markdown",
   "metadata": {},
   "source": [
    "### Vetor de Pesos\n",
    "\n",
    "Vetor W contendo os pesos de cada entrada. Inicialmente W é gerada aleatoriamente no intervalo [-0.5, 0.5]"
   ]
  },
  {
   "cell_type": "code",
   "execution_count": 18,
   "metadata": {},
   "outputs": [
    {
     "name": "stdout",
     "output_type": "stream",
     "text": [
      "Pesos Iniciais =  [-0.22771433  0.44925292 -0.44863404]\n"
     ]
    }
   ],
   "source": [
    "W=[]\n",
    "for i in range(3):\n",
    "    W.append(uniform(-0.5,0.5))\n",
    "W = np.asarray(W)\n",
    "print('Pesos Iniciais = ', W)"
   ]
  },
  {
   "cell_type": "markdown",
   "metadata": {},
   "source": [
    "### Função de Ativação\n",
    "\n",
    "Função degrau com limiar igual a zero.\n",
    "\n",
    "      f(u = ∑xi·wi) = { 1, u ≥ 0.   \n",
    "                        0, cc."
   ]
  },
  {
   "cell_type": "code",
   "execution_count": 4,
   "metadata": {},
   "outputs": [],
   "source": [
    "def ativacao(entrada, pesos):\n",
    "    u = 0\n",
    "    for i in range(3):\n",
    "        u += entrada.item(i)*pesos.item(i)\n",
    "    if (u>=0):\n",
    "        return 1\n",
    "    else:\n",
    "        return 0"
   ]
  },
  {
   "cell_type": "markdown",
   "metadata": {},
   "source": [
    "### Ajuste de Pesos\n",
    "\n",
    "    Regra Delta:\n",
    "    \n",
    "    w(n+1) = w(n) + η·(yic − yio)·xi ;  yic: Saída correta para a entrada xi\n",
    "                                        yio: Saída obtida para a entrada xi\n",
    "                                        η: Taxa de aprendizado "
   ]
  },
  {
   "cell_type": "code",
   "execution_count": 5,
   "metadata": {},
   "outputs": [],
   "source": [
    "def ajuste(entradas, pesos, taxa, saida_correta, saida_obtida):\n",
    "    for i in range(len(saida_correta)):\n",
    "        erro = saida_correta[i]-saida_obtida[i]\n",
    "        pesos = (pesos + (taxa*erro*entradas[i]))\n",
    "    return pesos"
   ]
  },
  {
   "cell_type": "markdown",
   "metadata": {},
   "source": [
    "### Treinamento do Perceptron"
   ]
  },
  {
   "cell_type": "code",
   "execution_count": 6,
   "metadata": {},
   "outputs": [],
   "source": [
    "def treinamento_perceptron(W, X, Y, taxa_aprendizado):\n",
    "    saida_obtida = []\n",
    "    peso_por_epoca = W\n",
    "    epoca = 1\n",
    "    num_ajustes = 0\n",
    "\n",
    "    while(saida_obtida!=Y):\n",
    "        print('Época ', epoca,':')\n",
    "        print('\\tVetor de Pesos:', W)\n",
    "        saida_obtida=[]\n",
    "        for i in range(len(X)):\n",
    "            ativacao(X[i], W)\n",
    "            saida_obtida.append(ativacao(X[i], W))\n",
    "\n",
    "        corretos = 0\n",
    "        errados = 0\n",
    "        lista_erros = np.asarray(Y) - np.asarray(saida_obtida)\n",
    "        for i in lista_erros:\n",
    "            if i==0:\n",
    "                corretos += 1\n",
    "            else:\n",
    "                errados +=1\n",
    "        num_ajustes+=errados\n",
    "        print('\\tExemplos corretos:', corretos)\n",
    "        print('\\tExemplos errados:', errados)\n",
    "        if saida_obtida != Y:\n",
    "            W = ajuste(X, W, taxa_aprendizado, Y, saida_obtida)\n",
    "            epoca+=1\n",
    "    \n",
    "    return W, epoca, num_ajustes"
   ]
  },
  {
   "cell_type": "code",
   "execution_count": 20,
   "metadata": {},
   "outputs": [
    {
     "name": "stdout",
     "output_type": "stream",
     "text": [
      "Época  1 :\n",
      "\tVetor de Pesos: [-0.22771433  0.44925292 -0.44863404]\n",
      "\tExemplos corretos: 2\n",
      "\tExemplos errados: 2\n",
      "Época  2 :\n",
      "\tVetor de Pesos: [-0.22771433  0.24925292 -0.44863404]\n",
      "\tExemplos corretos: 2\n",
      "\tExemplos errados: 2\n",
      "Época  3 :\n",
      "\tVetor de Pesos: [-0.22771433  0.04925292 -0.44863404]\n",
      "\tExemplos corretos: 3\n",
      "\tExemplos errados: 1\n",
      "Época  4 :\n",
      "\tVetor de Pesos: [-0.42771433  0.04925292 -0.24863404]\n",
      "\tExemplos corretos: 3\n",
      "\tExemplos errados: 1\n",
      "Época  5 :\n",
      "\tVetor de Pesos: [-0.22771433 -0.15074708 -0.44863404]\n",
      "\tExemplos corretos: 3\n",
      "\tExemplos errados: 1\n",
      "Época  6 :\n",
      "\tVetor de Pesos: [-0.42771433 -0.15074708 -0.24863404]\n",
      "\tExemplos corretos: 3\n",
      "\tExemplos errados: 1\n",
      "Época  7 :\n",
      "\tVetor de Pesos: [-0.22771433 -0.35074708 -0.44863404]\n",
      "\tExemplos corretos: 2\n",
      "\tExemplos errados: 2\n",
      "Época  8 :\n",
      "\tVetor de Pesos: [-0.62771433 -0.15074708 -0.24863404]\n",
      "\tExemplos corretos: 3\n",
      "\tExemplos errados: 1\n",
      "Época  9 :\n",
      "\tVetor de Pesos: [-0.42771433 -0.35074708 -0.44863404]\n",
      "\tExemplos corretos: 3\n",
      "\tExemplos errados: 1\n",
      "Época  10 :\n",
      "\tVetor de Pesos: [-0.62771433 -0.35074708 -0.24863404]\n",
      "\tExemplos corretos: 3\n",
      "\tExemplos errados: 1\n",
      "Época  11 :\n",
      "\tVetor de Pesos: [-0.42771433 -0.55074708 -0.44863404]\n",
      "\tExemplos corretos: 2\n",
      "\tExemplos errados: 2\n",
      "Época  12 :\n",
      "\tVetor de Pesos: [-0.82771433 -0.35074708 -0.24863404]\n",
      "\tExemplos corretos: 3\n",
      "\tExemplos errados: 1\n",
      "Época  13 :\n",
      "\tVetor de Pesos: [-0.62771433 -0.55074708 -0.44863404]\n",
      "\tExemplos corretos: 4\n",
      "\tExemplos errados: 0\n",
      "\n",
      "Total de épocas: 13\n",
      "Total de ajustes: 16\n"
     ]
    }
   ],
   "source": [
    "W, epocas, num_ajustes = treinamento_perceptron(W,X,Y,taxa_aprendizado=0.2)\n",
    "\n",
    "print('\\nTotal de épocas:', epocas)\n",
    "print('Total de ajustes:', num_ajustes)"
   ]
  },
  {
   "cell_type": "markdown",
   "metadata": {},
   "source": [
    "### Fronteira de Decisao\n",
    "\n",
    "        y = W[0]/W[2] − (W[1]/W[2]) ∗ x"
   ]
  },
  {
   "cell_type": "code",
   "execution_count": 21,
   "metadata": {},
   "outputs": [
    {
     "data": {
      "image/png": "[encoded data removed]",
      "text/plain": [
       "<Figure size 432x288 with 1 Axes>"
      ]
     },
     "metadata": {},
     "output_type": "display_data"
    }
   ],
   "source": [
    "plt.scatter(0,0, color='blue')\n",
    "plt.scatter(0,1, color='blue')\n",
    "plt.scatter(1,0, color='blue')\n",
    "plt.scatter(1,1, color='red')\n",
    "plt.plot([0, ((W.item(0)/W.item(2))/(W.item(1)/W.item(2)))], [W.item(0)/W.item(2), 0])\n",
    "\n",
    "plt.show()"
   ]
  },
  {
   "cell_type": "markdown",
   "metadata": {},
   "source": [
    "## Outras Funções de Ativação"
   ]
  },
  {
   "cell_type": "markdown",
   "metadata": {},
   "source": [
    "### Degrau (com θ = 0.5)"
   ]
  },
  {
   "cell_type": "code",
   "execution_count": 22,
   "metadata": {},
   "outputs": [
    {
     "data": {
      "image/png": "[encoded data removed]",
      "text/plain": [
       "<Figure size 432x288 with 1 Axes>"
      ]
     },
     "metadata": {},
     "output_type": "display_data"
    }
   ],
   "source": [
    "t = np.arange(-1.5, 1.5, 0.5)\n",
    "s = np.heaviside(t,0.5)\n",
    "\n",
    "plt.plot(t,s)\n",
    "plt.scatter(0,0.5)\n",
    "plt.text(0.05, 0.47, '(0,0.5)', fontsize=13)\n",
    "plt.show()"
   ]
  },
  {
   "cell_type": "markdown",
   "metadata": {},
   "source": [
    "### Sigmoidal, com 3 valores distintos de suavidade e centro da curva no valor 0"
   ]
  },
  {
   "cell_type": "code",
   "execution_count": 23,
   "metadata": {},
   "outputs": [
    {
     "data": {
      "image/png": "[encoded data removed]",
      "text/plain": [
       "<Figure size 432x288 with 1 Axes>"
      ]
     },
     "metadata": {},
     "output_type": "display_data"
    }
   ],
   "source": [
    "def sigmoid(x):\n",
    "    return 1/(1+np.exp(-x))\n",
    "\n",
    "t1 = np.arange(-2.5, 2.5, 0.1)\n",
    "s1 = []\n",
    "for i in t1:\n",
    "    s1.append(sigmoid(i))\n",
    "    \n",
    "plt.plot(t1,s1)\n",
    "plt.show()"
   ]
  },
  {
   "cell_type": "markdown",
   "metadata": {},
   "source": [
    "### Tangente Hiperbólica"
   ]
  },
  {
   "cell_type": "code",
   "execution_count": 24,
   "metadata": {},
   "outputs": [
    {
     "data": {
      "image/png": "[encoded data removed]",
      "text/plain": [
       "<Figure size 432x288 with 1 Axes>"
      ]
     },
     "metadata": {},
     "output_type": "display_data"
    }
   ],
   "source": [
    "t2 = np.arange(-1.5, 1.5, 0.1)\n",
    "s2 = np.tanh(t2)\n",
    "plt.plot(t2,s2)\n",
    "plt.show()"
   ]
  },
  {
   "cell_type": "markdown",
   "metadata": {},
   "source": [
    "### ReLU"
   ]
  },
  {
   "cell_type": "code",
   "execution_count": 25,
   "metadata": {},
   "outputs": [
    {
     "data": {
      "image/png": "[encoded data removed]",
      "text/plain": [
       "<Figure size 432x288 with 1 Axes>"
      ]
     },
     "metadata": {},
     "output_type": "display_data"
    }
   ],
   "source": [
    "def relu(x):\n",
    "    return max([0, x])\n",
    "\n",
    "t3 = np.arange(-1.5, 1.5, 0.1)\n",
    "s3 = []\n",
    "for i in t3:\n",
    "    s3.append(relu(i))\n",
    "    \n",
    "plt.plot(t3,s3)\n",
    "plt.show()"
   ]
  },
  {
   "cell_type": "code",
   "execution_count": null,
   "metadata": {},
   "outputs": [],
   "source": []
  }
 ],
 "metadata": {
  "kernelspec": {
   "display_name": "Python 3",
   "language": "python",
   "name": "python3"
  },
  "language_info": {
   "codemirror_mode": {
    "name": "ipython",
    "version": 3
   },
   "file_extension": ".py",
   "mimetype": "text/x-python",
   "name": "python",
   "nbconvert_exporter": "python",
   "pygments_lexer": "ipython3",
   "version": "3.6.5"
  }
 },
 "nbformat": 4,
 "nbformat_minor": 2
}
