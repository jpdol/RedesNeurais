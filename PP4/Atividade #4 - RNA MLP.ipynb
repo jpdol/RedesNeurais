{
 "cells": [
  {
   "cell_type": "markdown",
   "metadata": {},
   "source": [
    "# Projeto Prático #4 \n",
    "## Multilayer Perceptron + GridSearchCV + WheatSeedsDataset\n",
    "\n",
    "\n",
    "Este Projeto Prático tem o objetivo de conduzir um processo de Aprendizado de Máquina com a tarefa de Classificação Multiclasse que utilize Redes Neurais Artificiais do tipo Multilayer Perceptron para solucionar o problema de classificação de três variedades de trigo (Kama, Rosa, Canadian) a partir dos seguintes dados:\n",
    "    \n",
    "    \n",
    "    Área, Perímetro, Compactude, Comprimento, Largura, Coeficiente de Assimetria e Comprimento do Sulco da Semente\n",
    "    \n",
    "estes, encontrados no [WheatSeedsDataset](https://archive.ics.uci.edu/ml/datasets/seeds#).\n",
    "\n",
    "Com intuito de otimização na busca por melhores parâmetro e hiperparâmetros da RNA, neste projeto, será utilizada uma Busca em Grade que irá variar a função de ativação e número de neurônios nas camadas ocultas\n",
    "\n",
    "Para a avaliação das RNAs encontradas, a Busca em Grade considerará uma Validação Cruzada com k=3 folds e a acurácia como métrica de desempenho.\n",
    "\n",
    "Alunos: \n",
    "    - Jean Phelipe de Oliveira Lima - 1615080096\n",
    "    - Rodrigo Gomes de Souza - 1715310022"
   ]
  },
  {
   "cell_type": "markdown",
   "metadata": {},
   "source": [
    "## Bibliotecas"
   ]
  },
  {
   "cell_type": "code",
   "execution_count": 58,
   "metadata": {},
   "outputs": [],
   "source": [
    "import pandas as pd\n",
    "import numpy as np\n",
    "from math import ceil\n",
    "from sklearn.model_selection import GridSearchCV, KFold\n",
    "from sklearn.neural_network import MLPClassifier\n",
    "from sklearn.metrics import f1_score\n",
    "import matplotlib.pyplot as plt\n",
    "import warnings\n",
    "warnings.filterwarnings('ignore')"
   ]
  },
  {
   "cell_type": "markdown",
   "metadata": {},
   "source": [
    "## Leitura do WhatSeedsDataset"
   ]
  },
  {
   "cell_type": "code",
   "execution_count": 20,
   "metadata": {},
   "outputs": [
    {
     "data": {
      "text/html": [
       "<div>\n",
       "<style scoped>\n",
       "    .dataframe tbody tr th:only-of-type {\n",
       "        vertical-align: middle;\n",
       "    }\n",
       "\n",
       "    .dataframe tbody tr th {\n",
       "        vertical-align: top;\n",
       "    }\n",
       "\n",
       "    .dataframe thead th {\n",
       "        text-align: right;\n",
       "    }\n",
       "</style>\n",
       "<table border=\"1\" class=\"dataframe\">\n",
       "  <thead>\n",
       "    <tr style=\"text-align: right;\">\n",
       "      <th></th>\n",
       "      <th>Area</th>\n",
       "      <th>Perimeter</th>\n",
       "      <th>Compactness</th>\n",
       "      <th>Length of Kernel</th>\n",
       "      <th>Width of Kernel</th>\n",
       "      <th>Asymmetry Coefficient</th>\n",
       "      <th>Length of Kernel Groove</th>\n",
       "      <th>Type</th>\n",
       "    </tr>\n",
       "  </thead>\n",
       "  <tbody>\n",
       "    <tr>\n",
       "      <th>0</th>\n",
       "      <td>15.26</td>\n",
       "      <td>14.84</td>\n",
       "      <td>0.8710</td>\n",
       "      <td>5.763</td>\n",
       "      <td>3.312</td>\n",
       "      <td>2.221</td>\n",
       "      <td>5.220</td>\n",
       "      <td>1</td>\n",
       "    </tr>\n",
       "    <tr>\n",
       "      <th>1</th>\n",
       "      <td>14.88</td>\n",
       "      <td>14.57</td>\n",
       "      <td>0.8811</td>\n",
       "      <td>5.554</td>\n",
       "      <td>3.333</td>\n",
       "      <td>1.018</td>\n",
       "      <td>4.956</td>\n",
       "      <td>1</td>\n",
       "    </tr>\n",
       "    <tr>\n",
       "      <th>2</th>\n",
       "      <td>14.29</td>\n",
       "      <td>14.09</td>\n",
       "      <td>0.9050</td>\n",
       "      <td>5.291</td>\n",
       "      <td>3.337</td>\n",
       "      <td>2.699</td>\n",
       "      <td>4.825</td>\n",
       "      <td>1</td>\n",
       "    </tr>\n",
       "    <tr>\n",
       "      <th>3</th>\n",
       "      <td>13.84</td>\n",
       "      <td>13.94</td>\n",
       "      <td>0.8955</td>\n",
       "      <td>5.324</td>\n",
       "      <td>3.379</td>\n",
       "      <td>2.259</td>\n",
       "      <td>4.805</td>\n",
       "      <td>1</td>\n",
       "    </tr>\n",
       "    <tr>\n",
       "      <th>4</th>\n",
       "      <td>16.14</td>\n",
       "      <td>14.99</td>\n",
       "      <td>0.9034</td>\n",
       "      <td>5.658</td>\n",
       "      <td>3.562</td>\n",
       "      <td>1.355</td>\n",
       "      <td>5.175</td>\n",
       "      <td>1</td>\n",
       "    </tr>\n",
       "  </tbody>\n",
       "</table>\n",
       "</div>"
      ],
      "text/plain": [
       "    Area  Perimeter  Compactness  Length of Kernel  Width of Kernel  \\\n",
       "0  15.26      14.84       0.8710             5.763            3.312   \n",
       "1  14.88      14.57       0.8811             5.554            3.333   \n",
       "2  14.29      14.09       0.9050             5.291            3.337   \n",
       "3  13.84      13.94       0.8955             5.324            3.379   \n",
       "4  16.14      14.99       0.9034             5.658            3.562   \n",
       "\n",
       "   Asymmetry Coefficient  Length of Kernel Groove  Type  \n",
       "0                  2.221                    5.220     1  \n",
       "1                  1.018                    4.956     1  \n",
       "2                  2.699                    4.825     1  \n",
       "3                  2.259                    4.805     1  \n",
       "4                  1.355                    5.175     1  "
      ]
     },
     "execution_count": 20,
     "metadata": {},
     "output_type": "execute_result"
    }
   ],
   "source": [
    "dataset = pd.read_csv('WheatSeedDataset.csv', sep='\\t')\n",
    "dataset.head()"
   ]
  },
  {
   "cell_type": "markdown",
   "metadata": {},
   "source": [
    "## Regra da Pirâmide Geométrica\n",
    "\n",
    "Implementação da Regra da Pirâmide Geométrica para determinação da quantidade de Neurônios Ocultos\n",
    "\n",
    "        Nh = α·√(Ni·No) ; Nh = Número de Neurônios Ocultos\n",
    "                          Ni = Número de Neurônios de Entrada\n",
    "                          No = Número de Neurônios de Saída\n",
    "                          α  = Constante (Para o problema em questão, serão adotados α = [0.5, 2, 3])"
   ]
  },
  {
   "cell_type": "code",
   "execution_count": 3,
   "metadata": {},
   "outputs": [],
   "source": [
    "def piramide_geometrica(ni, no, alfa):\n",
    "    nh = alfa*((ni*no)**(1/2))\n",
    "    return ceil(nh)"
   ]
  },
  {
   "cell_type": "markdown",
   "metadata": {},
   "source": [
    "##  Distribuição dos Neurônios em duas Camadas Ocultas\n",
    "\n",
    "Função para gerar todas as possíveis 2-tuplas que representam o número de neurônios distribuídos por duas camadas ocultas de uma RNA do tipo MLP, dado o número de neurônios ocultos obtidos previamente pela Regra da Pirâmide Geométrica."
   ]
  },
  {
   "cell_type": "code",
   "execution_count": 4,
   "metadata": {},
   "outputs": [],
   "source": [
    "def hidden_layers(layers, nh):\n",
    "    for i in range(1, nh):\n",
    "        neurons_layers = (i, nh-i)\n",
    "        layers.append(neurons_layers)\n",
    "    return layers"
   ]
  },
  {
   "cell_type": "markdown",
   "metadata": {},
   "source": [
    "### Criação de Lista de Camadas Ocultas a Partir da Regra da Pirâmide Geométrica"
   ]
  },
  {
   "cell_type": "code",
   "execution_count": 5,
   "metadata": {},
   "outputs": [],
   "source": [
    "num_in = 7\n",
    "num_out = 3\n",
    "alpha = [0.5, 2, 3]\n",
    "layers = []"
   ]
  },
  {
   "cell_type": "code",
   "execution_count": 6,
   "metadata": {},
   "outputs": [
    {
     "name": "stdout",
     "output_type": "stream",
     "text": [
      "Para α = 0.5, Nh = 3\n",
      "Para α = 2.0, Nh = 10\n",
      "Para α = 3.0, Nh = 14\n",
      "\n",
      "Distribuições de Camadas Ocultas:\n",
      "\n",
      "(1, 2)\n",
      "(2, 1)\n",
      "(1, 9)\n",
      "(2, 8)\n",
      "(3, 7)\n",
      "(4, 6)\n",
      "(5, 5)\n",
      "(6, 4)\n",
      "(7, 3)\n",
      "(8, 2)\n",
      "(9, 1)\n",
      "(1, 13)\n",
      "(2, 12)\n",
      "(3, 11)\n",
      "(4, 10)\n",
      "(5, 9)\n",
      "(6, 8)\n",
      "(7, 7)\n",
      "(8, 6)\n",
      "(9, 5)\n",
      "(10, 4)\n",
      "(11, 3)\n",
      "(12, 2)\n",
      "(13, 1)\n"
     ]
    }
   ],
   "source": [
    "for i in range(len(alpha)):\n",
    "    nh = piramide_geometrica(num_in, num_out, alpha[i])\n",
    "    print('Para α = %.1f, Nh = %d'%(alpha[i],nh))\n",
    "    hidden_layers(layers, nh)#insere cada possibilidade de camadas ocultas, dado o numero de neurônios, na lista 'layers'\n",
    "    \n",
    "print()\n",
    "print('Distribuições de Camadas Ocultas:\\n')\n",
    "for i in layers:\n",
    "    print(i)"
   ]
  },
  {
   "cell_type": "markdown",
   "metadata": {},
   "source": [
    "## Busca em Grade\n",
    "\n",
    "São definidos:\n",
    "    - Parâmetros que devem variar na busca em grade;\n",
    "    - Número de Folds para validação cruzada;\n",
    "    - Métrica de desempenho a ser considerada;\n",
    "    \n",
    "    \n",
    "Além disso, é definido o método de otimização a ser utilizado: ***solver = lbfgs***, uma vez que dataset utilizado contém poucos exemplos para cada classe."
   ]
  },
  {
   "cell_type": "code",
   "execution_count": 7,
   "metadata": {},
   "outputs": [],
   "source": [
    "parameters = {'solver': ['lbfgs'], \n",
    "              'activation': ['identity', 'logistic', 'tanh', 'relu'],\n",
    "              'hidden_layer_sizes': layers,\n",
    "              'max_iter':[1000],\n",
    "              'learning_rate': ['adaptive', 'constant']}\n",
    "\n",
    "gs = GridSearchCV(MLPClassifier(), \n",
    "                  parameters, \n",
    "                  cv=3, \n",
    "                  scoring='accuracy')"
   ]
  },
  {
   "cell_type": "code",
   "execution_count": 8,
   "metadata": {},
   "outputs": [],
   "source": [
    "x = dataset.drop(['Type'], axis = 1) #Atributos preditores\n",
    "y = dataset.Type #Atributo Alvo"
   ]
  },
  {
   "cell_type": "markdown",
   "metadata": {},
   "source": [
    "### Treinamento \n",
    "\n",
    "Treinamento de todas as combinações de RNAs definidas no GridSearchCV()"
   ]
  },
  {
   "cell_type": "code",
   "execution_count": 9,
   "metadata": {
    "scrolled": true
   },
   "outputs": [
    {
     "data": {
      "text/plain": [
       "GridSearchCV(cv=3, error_score='raise-deprecating',\n",
       "       estimator=MLPClassifier(activation='relu', alpha=0.0001, batch_size='auto', beta_1=0.9,\n",
       "       beta_2=0.999, early_stopping=False, epsilon=1e-08,\n",
       "       hidden_layer_sizes=(100,), learning_rate='constant',\n",
       "       learning_rate_init=0.001, max_iter=200, momentum=0.9,\n",
       "       n_iter_no_change=10, nesterovs_momentum=True, power_t=0.5,\n",
       "       random_state=None, shuffle=True, solver='adam', tol=0.0001,\n",
       "       validation_fraction=0.1, verbose=False, warm_start=False),\n",
       "       fit_params=None, iid='warn', n_jobs=None,\n",
       "       param_grid={'solver': ['lbfgs'], 'activation': ['identity', 'logistic', 'tanh', 'relu'], 'hidden_layer_sizes': [(1, 2), (2, 1), (1, 9), (2, 8), (3, 7), (4, 6), (5, 5), (6, 4), (7, 3), (8, 2), (9, 1), (1, 13), (2, 12), (3, 11), (4, 10), (5, 9), (6, 8), (7, 7), (8, 6), (9, 5), (10, 4), (11, 3), (12, 2), (13, 1)], 'max_iter': [1000], 'learning_rate': ['adaptive', 'constant']},\n",
       "       pre_dispatch='2*n_jobs', refit=True, return_train_score='warn',\n",
       "       scoring='accuracy', verbose=0)"
      ]
     },
     "execution_count": 9,
     "metadata": {},
     "output_type": "execute_result"
    }
   ],
   "source": [
    "gs.fit(x, y)"
   ]
  },
  {
   "cell_type": "markdown",
   "metadata": {},
   "source": [
    "# Resultados"
   ]
  },
  {
   "cell_type": "markdown",
   "metadata": {},
   "source": [
    "### Acurácia e Parâmetros do melhor modelo:"
   ]
  },
  {
   "cell_type": "code",
   "execution_count": 10,
   "metadata": {},
   "outputs": [
    {
     "name": "stdout",
     "output_type": "stream",
     "text": [
      "Acurácia média para os 3 splits de teste: 0.9333333333333333\n",
      "\n",
      "Parâmetros:\n",
      "\t activation :  identity\n",
      "\t hidden_layer_sizes :  (2, 8)\n",
      "\t learning_rate :  constant\n",
      "\t max_iter :  1000\n",
      "\t solver :  lbfgs\n"
     ]
    }
   ],
   "source": [
    "#Acurácia para o conjunto de testes\n",
    "print('Acurácia média para os 3 splits de teste:',gs.best_score_)\n",
    "\n",
    "print('\\nParâmetros:')\n",
    "for key in gs.best_params_.keys():\n",
    "    print('\\t',key, ': ', gs.best_params_[key])"
   ]
  },
  {
   "cell_type": "markdown",
   "metadata": {},
   "source": [
    "### Dataframe - Desempenho de cada RNA"
   ]
  },
  {
   "cell_type": "code",
   "execution_count": 84,
   "metadata": {
    "scrolled": false
   },
   "outputs": [
    {
     "data": {
      "text/html": [
       "<div>\n",
       "<style scoped>\n",
       "    .dataframe tbody tr th:only-of-type {\n",
       "        vertical-align: middle;\n",
       "    }\n",
       "\n",
       "    .dataframe tbody tr th {\n",
       "        vertical-align: top;\n",
       "    }\n",
       "\n",
       "    .dataframe thead th {\n",
       "        text-align: right;\n",
       "    }\n",
       "</style>\n",
       "<table border=\"1\" class=\"dataframe\">\n",
       "  <thead>\n",
       "    <tr style=\"text-align: right;\">\n",
       "      <th></th>\n",
       "      <th>hidden_layer_sizes</th>\n",
       "      <th>activation</th>\n",
       "      <th>learning_rate</th>\n",
       "      <th>mean_test_accuracy</th>\n",
       "    </tr>\n",
       "  </thead>\n",
       "  <tbody>\n",
       "    <tr>\n",
       "      <th>0</th>\n",
       "      <td>(1, 2)</td>\n",
       "      <td>identity</td>\n",
       "      <td>adaptive</td>\n",
       "      <td>0.847619</td>\n",
       "    </tr>\n",
       "    <tr>\n",
       "      <th>1</th>\n",
       "      <td>(1, 2)</td>\n",
       "      <td>identity</td>\n",
       "      <td>constant</td>\n",
       "      <td>0.852381</td>\n",
       "    </tr>\n",
       "    <tr>\n",
       "      <th>2</th>\n",
       "      <td>(2, 1)</td>\n",
       "      <td>identity</td>\n",
       "      <td>adaptive</td>\n",
       "      <td>0.852381</td>\n",
       "    </tr>\n",
       "    <tr>\n",
       "      <th>3</th>\n",
       "      <td>(2, 1)</td>\n",
       "      <td>identity</td>\n",
       "      <td>constant</td>\n",
       "      <td>0.861905</td>\n",
       "    </tr>\n",
       "    <tr>\n",
       "      <th>4</th>\n",
       "      <td>(1, 9)</td>\n",
       "      <td>identity</td>\n",
       "      <td>adaptive</td>\n",
       "      <td>0.842857</td>\n",
       "    </tr>\n",
       "    <tr>\n",
       "      <th>5</th>\n",
       "      <td>(1, 9)</td>\n",
       "      <td>identity</td>\n",
       "      <td>constant</td>\n",
       "      <td>0.852381</td>\n",
       "    </tr>\n",
       "    <tr>\n",
       "      <th>6</th>\n",
       "      <td>(2, 8)</td>\n",
       "      <td>identity</td>\n",
       "      <td>adaptive</td>\n",
       "      <td>0.928571</td>\n",
       "    </tr>\n",
       "    <tr>\n",
       "      <th>7</th>\n",
       "      <td>(2, 8)</td>\n",
       "      <td>identity</td>\n",
       "      <td>constant</td>\n",
       "      <td>0.933333</td>\n",
       "    </tr>\n",
       "    <tr>\n",
       "      <th>8</th>\n",
       "      <td>(3, 7)</td>\n",
       "      <td>identity</td>\n",
       "      <td>adaptive</td>\n",
       "      <td>0.890476</td>\n",
       "    </tr>\n",
       "    <tr>\n",
       "      <th>9</th>\n",
       "      <td>(3, 7)</td>\n",
       "      <td>identity</td>\n",
       "      <td>constant</td>\n",
       "      <td>0.923810</td>\n",
       "    </tr>\n",
       "  </tbody>\n",
       "</table>\n",
       "</div>"
      ],
      "text/plain": [
       "  hidden_layer_sizes activation learning_rate  mean_test_accuracy\n",
       "0             (1, 2)   identity      adaptive            0.847619\n",
       "1             (1, 2)   identity      constant            0.852381\n",
       "2             (2, 1)   identity      adaptive            0.852381\n",
       "3             (2, 1)   identity      constant            0.861905\n",
       "4             (1, 9)   identity      adaptive            0.842857\n",
       "5             (1, 9)   identity      constant            0.852381\n",
       "6             (2, 8)   identity      adaptive            0.928571\n",
       "7             (2, 8)   identity      constant            0.933333\n",
       "8             (3, 7)   identity      adaptive            0.890476\n",
       "9             (3, 7)   identity      constant            0.923810"
      ]
     },
     "execution_count": 84,
     "metadata": {},
     "output_type": "execute_result"
    }
   ],
   "source": [
    "results = pd.DataFrame(gs.cv_results_)\n",
    "analysis_dict = {}\n",
    "\n",
    "analysis_dict['hidden_layer_sizes'] = results['param_hidden_layer_sizes']\n",
    "analysis_dict['activation'] = results['param_activation']\n",
    "analysis_dict['learning_rate'] = results['param_learning_rate']\n",
    "analysis_dict['mean_test_accuracy'] = results['mean_test_score']\n",
    "\n",
    "analysis_dataset = pd.DataFrame(analysis_dict)\n",
    "analysis_dataset.head(10)"
   ]
  },
  {
   "cell_type": "markdown",
   "metadata": {},
   "source": [
    "### Número de RNAs treinadas:"
   ]
  },
  {
   "cell_type": "code",
   "execution_count": 85,
   "metadata": {},
   "outputs": [
    {
     "name": "stdout",
     "output_type": "stream",
     "text": [
      "Total de RNAs: 192\n"
     ]
    }
   ],
   "source": [
    "print(\"Total de RNAs:\",len(results))"
   ]
  },
  {
   "cell_type": "markdown",
   "metadata": {},
   "source": [
    "### Análise de Desempenho"
   ]
  }
 ],
 "metadata": {
  "kernelspec": {
   "display_name": "Python 3",
   "language": "python",
   "name": "python3"
  },
  "language_info": {
   "codemirror_mode": {
    "name": "ipython",
    "version": 3
   },
   "file_extension": ".py",
   "mimetype": "text/x-python",
   "name": "python",
   "nbconvert_exporter": "python",
   "pygments_lexer": "ipython3",
   "version": "3.6.5"
  }
 },
 "nbformat": 4,
 "nbformat_minor": 2
}
