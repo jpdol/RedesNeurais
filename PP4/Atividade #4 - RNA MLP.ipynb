{
 "cells": [
  {
   "cell_type": "markdown",
   "metadata": {},
   "source": [
    "# Projeto Prático #4 \n",
    "## Multilayer Perceptron + GridSearchCV + WheatSeedDataset"
   ]
  },
  {
   "cell_type": "markdown",
   "metadata": {},
   "source": [
    "## Bibliotecas"
   ]
  },
  {
   "cell_type": "code",
   "execution_count": 59,
   "metadata": {},
   "outputs": [],
   "source": [
    "import pandas as pd\n",
    "import numpy as np\n",
    "from math import ceil\n",
    "from sklearn.model_selection import GridSearchCV, KFold\n",
    "from sklearn.neural_network import MLPClassifier\n",
    "from sklearn.metrics import f1_score\n",
    "import warnings\n",
    "warnings.filterwarnings('ignore')"
   ]
  },
  {
   "cell_type": "markdown",
   "metadata": {},
   "source": [
    "## Dataset"
   ]
  },
  {
   "cell_type": "code",
   "execution_count": 60,
   "metadata": {},
   "outputs": [
    {
     "data": {
      "text/html": [
       "<div>\n",
       "<style scoped>\n",
       "    .dataframe tbody tr th:only-of-type {\n",
       "        vertical-align: middle;\n",
       "    }\n",
       "\n",
       "    .dataframe tbody tr th {\n",
       "        vertical-align: top;\n",
       "    }\n",
       "\n",
       "    .dataframe thead th {\n",
       "        text-align: right;\n",
       "    }\n",
       "</style>\n",
       "<table border=\"1\" class=\"dataframe\">\n",
       "  <thead>\n",
       "    <tr style=\"text-align: right;\">\n",
       "      <th></th>\n",
       "      <th>Area</th>\n",
       "      <th>Perimeter</th>\n",
       "      <th>Compactness</th>\n",
       "      <th>Length of Kernel</th>\n",
       "      <th>Width of Kernel</th>\n",
       "      <th>Asymmetry Coefficient</th>\n",
       "      <th>Length of Kernel Groove</th>\n",
       "      <th>Type</th>\n",
       "    </tr>\n",
       "  </thead>\n",
       "  <tbody>\n",
       "    <tr>\n",
       "      <th>0</th>\n",
       "      <td>15.26</td>\n",
       "      <td>14.84</td>\n",
       "      <td>0.8710</td>\n",
       "      <td>5.763</td>\n",
       "      <td>3.312</td>\n",
       "      <td>2.221</td>\n",
       "      <td>5.220</td>\n",
       "      <td>1</td>\n",
       "    </tr>\n",
       "    <tr>\n",
       "      <th>1</th>\n",
       "      <td>14.88</td>\n",
       "      <td>14.57</td>\n",
       "      <td>0.8811</td>\n",
       "      <td>5.554</td>\n",
       "      <td>3.333</td>\n",
       "      <td>1.018</td>\n",
       "      <td>4.956</td>\n",
       "      <td>1</td>\n",
       "    </tr>\n",
       "    <tr>\n",
       "      <th>2</th>\n",
       "      <td>14.29</td>\n",
       "      <td>14.09</td>\n",
       "      <td>0.9050</td>\n",
       "      <td>5.291</td>\n",
       "      <td>3.337</td>\n",
       "      <td>2.699</td>\n",
       "      <td>4.825</td>\n",
       "      <td>1</td>\n",
       "    </tr>\n",
       "    <tr>\n",
       "      <th>3</th>\n",
       "      <td>13.84</td>\n",
       "      <td>13.94</td>\n",
       "      <td>0.8955</td>\n",
       "      <td>5.324</td>\n",
       "      <td>3.379</td>\n",
       "      <td>2.259</td>\n",
       "      <td>4.805</td>\n",
       "      <td>1</td>\n",
       "    </tr>\n",
       "    <tr>\n",
       "      <th>4</th>\n",
       "      <td>16.14</td>\n",
       "      <td>14.99</td>\n",
       "      <td>0.9034</td>\n",
       "      <td>5.658</td>\n",
       "      <td>3.562</td>\n",
       "      <td>1.355</td>\n",
       "      <td>5.175</td>\n",
       "      <td>1</td>\n",
       "    </tr>\n",
       "  </tbody>\n",
       "</table>\n",
       "</div>"
      ],
      "text/plain": [
       "    Area  Perimeter  Compactness  Length of Kernel  Width of Kernel  \\\n",
       "0  15.26      14.84       0.8710             5.763            3.312   \n",
       "1  14.88      14.57       0.8811             5.554            3.333   \n",
       "2  14.29      14.09       0.9050             5.291            3.337   \n",
       "3  13.84      13.94       0.8955             5.324            3.379   \n",
       "4  16.14      14.99       0.9034             5.658            3.562   \n",
       "\n",
       "   Asymmetry Coefficient  Length of Kernel Groove  Type  \n",
       "0                  2.221                    5.220     1  \n",
       "1                  1.018                    4.956     1  \n",
       "2                  2.699                    4.825     1  \n",
       "3                  2.259                    4.805     1  \n",
       "4                  1.355                    5.175     1  "
      ]
     },
     "execution_count": 60,
     "metadata": {},
     "output_type": "execute_result"
    }
   ],
   "source": [
    "dataset = pd.read_csv('WheatSeedDataset.csv', sep='\\t')\n",
    "dataset.head()"
   ]
  },
  {
   "cell_type": "markdown",
   "metadata": {},
   "source": [
    "## Regra da Pirâmide Geométrica\n",
    "\n",
    "        Nh = α·√(Ni·No) ; Nh = Número de Neurônios Ocultos\n",
    "                          Ni = Número de Neurônios de Entrada\n",
    "                          No = Número de Neurônios de Saída\n",
    "                          α  = [0.5, 2, 3]"
   ]
  },
  {
   "cell_type": "code",
   "execution_count": 3,
   "metadata": {},
   "outputs": [],
   "source": [
    "def piramide_geometrica(ni, no, alfa):\n",
    "    nh = alfa*((ni*no)**(1/2))\n",
    "    return ceil(nh)"
   ]
  },
  {
   "cell_type": "markdown",
   "metadata": {},
   "source": [
    "##  Distribuição dos Neurônios em duas Camadas Ocultas\n",
    "\n",
    "Função para gerar todas as possíveis 2-tuplas que representam o número de neurônios distribuídos por duas camadas ocultas de uma RNA do tipo MLP, dado o número de neurônios ocultos obtidos previamente pela Regra da Pirâmide Geométrica."
   ]
  },
  {
   "cell_type": "code",
   "execution_count": 4,
   "metadata": {},
   "outputs": [],
   "source": [
    "def hidden_layers(layers, nh):\n",
    "    for i in range(1, nh):\n",
    "        neurons_layers = (i, nh-i)\n",
    "        layers.append(neurons_layers)\n",
    "    return layers"
   ]
  },
  {
   "cell_type": "markdown",
   "metadata": {},
   "source": [
    "### Criação de Lista de Camadas Ocultas a Partir da Regra da Pirâmide Geométrica"
   ]
  },
  {
   "cell_type": "code",
   "execution_count": 5,
   "metadata": {},
   "outputs": [],
   "source": [
    "num_in = 7\n",
    "num_out = 3\n",
    "alpha = [0.5, 2, 3]\n",
    "layers = []"
   ]
  },
  {
   "cell_type": "code",
   "execution_count": 6,
   "metadata": {},
   "outputs": [
    {
     "name": "stdout",
     "output_type": "stream",
     "text": [
      "Para α = 0.5, Nh = 3\n",
      "Para α = 2.0, Nh = 10\n",
      "Para α = 3.0, Nh = 14\n",
      "\n",
      "Distribuições de Camadas Ocultas:\n",
      "\n",
      "(1, 2)\n",
      "(2, 1)\n",
      "(1, 9)\n",
      "(2, 8)\n",
      "(3, 7)\n",
      "(4, 6)\n",
      "(5, 5)\n",
      "(6, 4)\n",
      "(7, 3)\n",
      "(8, 2)\n",
      "(9, 1)\n",
      "(1, 13)\n",
      "(2, 12)\n",
      "(3, 11)\n",
      "(4, 10)\n",
      "(5, 9)\n",
      "(6, 8)\n",
      "(7, 7)\n",
      "(8, 6)\n",
      "(9, 5)\n",
      "(10, 4)\n",
      "(11, 3)\n",
      "(12, 2)\n",
      "(13, 1)\n"
     ]
    }
   ],
   "source": [
    "for i in range(len(alpha)):\n",
    "    nh = piramide_geometrica(num_in, num_out, alpha[i])\n",
    "    print('Para α = %.1f, Nh = %d'%(alpha[i],nh))\n",
    "    hidden_layers(layers, nh)#insere cada possibilidade de camadas ocultas, dado o numero de neurônios, na lista 'layers'\n",
    "    \n",
    "print()\n",
    "print('Distribuições de Camadas Ocultas:\\n')\n",
    "for i in layers:\n",
    "    print(i)"
   ]
  },
  {
   "cell_type": "code",
   "execution_count": 7,
   "metadata": {},
   "outputs": [],
   "source": [
    "parameters = {'solver': ['lbfgs'], \n",
    "              'activation': ['identity', 'logistic', 'tanh', 'relu'],\n",
    "              'hidden_layer_sizes': layers,\n",
    "              'max_iter':[1000],\n",
    "              'learning_rate': ['adaptive', 'constant']}\n",
    "\n",
    "gs = GridSearchCV(MLPClassifier(), \n",
    "                  parameters, \n",
    "                  cv=3, \n",
    "                  scoring='accuracy')"
   ]
  },
  {
   "cell_type": "code",
   "execution_count": 8,
   "metadata": {},
   "outputs": [],
   "source": [
    "x = dataset.drop(['Type'], axis = 1)\n",
    "y = dataset.Type"
   ]
  },
  {
   "cell_type": "code",
   "execution_count": 9,
   "metadata": {
    "scrolled": true
   },
   "outputs": [
    {
     "data": {
      "text/plain": [
       "GridSearchCV(cv=3, error_score='raise-deprecating',\n",
       "       estimator=MLPClassifier(activation='relu', alpha=0.0001, batch_size='auto', beta_1=0.9,\n",
       "       beta_2=0.999, early_stopping=False, epsilon=1e-08,\n",
       "       hidden_layer_sizes=(100,), learning_rate='constant',\n",
       "       learning_rate_init=0.001, max_iter=200, momentum=0.9,\n",
       "       n_iter_no_change=10, nesterovs_momentum=True, power_t=0.5,\n",
       "       random_state=None, shuffle=True, solver='adam', tol=0.0001,\n",
       "       validation_fraction=0.1, verbose=False, warm_start=False),\n",
       "       fit_params=None, iid='warn', n_jobs=None,\n",
       "       param_grid={'solver': ['lbfgs'], 'activation': ['identity', 'logistic', 'tanh', 'relu'], 'hidden_layer_sizes': [(1, 2), (2, 1), (1, 9), (2, 8), (3, 7), (4, 6), (5, 5), (6, 4), (7, 3), (8, 2), (9, 1), (1, 13), (2, 12), (3, 11), (4, 10), (5, 9), (6, 8), (7, 7), (8, 6), (9, 5), (10, 4), (11, 3), (12, 2), (13, 1)], 'max_iter': [1000], 'learning_rate': ['adaptive', 'constant']},\n",
       "       pre_dispatch='2*n_jobs', refit=True, return_train_score='warn',\n",
       "       scoring='accuracy', verbose=0)"
      ]
     },
     "execution_count": 9,
     "metadata": {},
     "output_type": "execute_result"
    }
   ],
   "source": [
    "gs.fit(x, y)"
   ]
  },
  {
   "cell_type": "code",
   "execution_count": 50,
   "metadata": {},
   "outputs": [
    {
     "data": {
      "text/plain": [
       "{'activation': 'identity',\n",
       " 'hidden_layer_sizes': (6, 4),\n",
       " 'learning_rate': 'adaptive',\n",
       " 'max_iter': 1000,\n",
       " 'solver': 'lbfgs'}"
      ]
     },
     "execution_count": 50,
     "metadata": {},
     "output_type": "execute_result"
    }
   ],
   "source": [
    "gs.best_params_"
   ]
  },
  {
   "cell_type": "code",
   "execution_count": 49,
   "metadata": {},
   "outputs": [
    {
     "data": {
      "text/plain": [
       "0.9333333333333333"
      ]
     },
     "execution_count": 49,
     "metadata": {},
     "output_type": "execute_result"
    }
   ],
   "source": [
    "gs.best_score_ #melhor media acurácia para os testes"
   ]
  },
  {
   "cell_type": "code",
   "execution_count": 51,
   "metadata": {
    "scrolled": false
   },
   "outputs": [
    {
     "name": "stdout",
     "output_type": "stream",
     "text": [
      "mean_fit_time\n",
      "std_fit_time\n",
      "mean_score_time\n",
      "std_score_time\n",
      "param_activation\n",
      "param_hidden_layer_sizes\n",
      "param_learning_rate\n",
      "param_max_iter\n",
      "param_solver\n",
      "params\n",
      "split0_test_score\n",
      "split1_test_score\n",
      "split2_test_score\n",
      "mean_test_score\n",
      "std_test_score\n",
      "rank_test_score\n",
      "split0_train_score\n",
      "split1_train_score\n",
      "split2_train_score\n",
      "mean_train_score\n",
      "std_train_score\n"
     ]
    }
   ],
   "source": [
    "for i in gs.cv_results_.keys():\n",
    "    print (i)"
   ]
  },
  {
   "cell_type": "code",
   "execution_count": 57,
   "metadata": {
    "scrolled": false
   },
   "outputs": [
    {
     "data": {
      "text/html": [
       "<div>\n",
       "<style scoped>\n",
       "    .dataframe tbody tr th:only-of-type {\n",
       "        vertical-align: middle;\n",
       "    }\n",
       "\n",
       "    .dataframe tbody tr th {\n",
       "        vertical-align: top;\n",
       "    }\n",
       "\n",
       "    .dataframe thead th {\n",
       "        text-align: right;\n",
       "    }\n",
       "</style>\n",
       "<table border=\"1\" class=\"dataframe\">\n",
       "  <thead>\n",
       "    <tr style=\"text-align: right;\">\n",
       "      <th></th>\n",
       "      <th>mean_fit_time</th>\n",
       "      <th>std_fit_time</th>\n",
       "      <th>mean_score_time</th>\n",
       "      <th>std_score_time</th>\n",
       "      <th>param_activation</th>\n",
       "      <th>param_hidden_layer_sizes</th>\n",
       "      <th>param_learning_rate</th>\n",
       "      <th>param_max_iter</th>\n",
       "      <th>param_solver</th>\n",
       "      <th>params</th>\n",
       "      <th>...</th>\n",
       "      <th>split1_test_score</th>\n",
       "      <th>split2_test_score</th>\n",
       "      <th>mean_test_score</th>\n",
       "      <th>std_test_score</th>\n",
       "      <th>rank_test_score</th>\n",
       "      <th>split0_train_score</th>\n",
       "      <th>split1_train_score</th>\n",
       "      <th>split2_train_score</th>\n",
       "      <th>mean_train_score</th>\n",
       "      <th>std_train_score</th>\n",
       "    </tr>\n",
       "  </thead>\n",
       "  <tbody>\n",
       "    <tr>\n",
       "      <th>0</th>\n",
       "      <td>0.333913</td>\n",
       "      <td>0.201537</td>\n",
       "      <td>0.001062</td>\n",
       "      <td>0.000160</td>\n",
       "      <td>identity</td>\n",
       "      <td>(1, 2)</td>\n",
       "      <td>adaptive</td>\n",
       "      <td>1000</td>\n",
       "      <td>lbfgs</td>\n",
       "      <td>{'activation': 'identity', 'hidden_layer_sizes...</td>\n",
       "      <td>...</td>\n",
       "      <td>0.942029</td>\n",
       "      <td>0.753623</td>\n",
       "      <td>0.861905</td>\n",
       "      <td>0.078813</td>\n",
       "      <td>74</td>\n",
       "      <td>0.862319</td>\n",
       "      <td>0.865248</td>\n",
       "      <td>0.914894</td>\n",
       "      <td>0.880820</td>\n",
       "      <td>0.024123</td>\n",
       "    </tr>\n",
       "    <tr>\n",
       "      <th>1</th>\n",
       "      <td>0.124696</td>\n",
       "      <td>0.074822</td>\n",
       "      <td>0.000985</td>\n",
       "      <td>0.000283</td>\n",
       "      <td>identity</td>\n",
       "      <td>(1, 2)</td>\n",
       "      <td>constant</td>\n",
       "      <td>1000</td>\n",
       "      <td>lbfgs</td>\n",
       "      <td>{'activation': 'identity', 'hidden_layer_sizes...</td>\n",
       "      <td>...</td>\n",
       "      <td>0.927536</td>\n",
       "      <td>0.753623</td>\n",
       "      <td>0.852381</td>\n",
       "      <td>0.072359</td>\n",
       "      <td>81</td>\n",
       "      <td>0.855072</td>\n",
       "      <td>0.836879</td>\n",
       "      <td>0.914894</td>\n",
       "      <td>0.868949</td>\n",
       "      <td>0.033326</td>\n",
       "    </tr>\n",
       "    <tr>\n",
       "      <th>2</th>\n",
       "      <td>0.123771</td>\n",
       "      <td>0.061240</td>\n",
       "      <td>0.000793</td>\n",
       "      <td>0.000043</td>\n",
       "      <td>identity</td>\n",
       "      <td>(2, 1)</td>\n",
       "      <td>adaptive</td>\n",
       "      <td>1000</td>\n",
       "      <td>lbfgs</td>\n",
       "      <td>{'activation': 'identity', 'hidden_layer_sizes...</td>\n",
       "      <td>...</td>\n",
       "      <td>0.913043</td>\n",
       "      <td>0.753623</td>\n",
       "      <td>0.842857</td>\n",
       "      <td>0.065948</td>\n",
       "      <td>91</td>\n",
       "      <td>0.891304</td>\n",
       "      <td>0.858156</td>\n",
       "      <td>0.914894</td>\n",
       "      <td>0.888118</td>\n",
       "      <td>0.023272</td>\n",
       "    </tr>\n",
       "    <tr>\n",
       "      <th>3</th>\n",
       "      <td>0.223674</td>\n",
       "      <td>0.123618</td>\n",
       "      <td>0.000814</td>\n",
       "      <td>0.000048</td>\n",
       "      <td>identity</td>\n",
       "      <td>(2, 1)</td>\n",
       "      <td>constant</td>\n",
       "      <td>1000</td>\n",
       "      <td>lbfgs</td>\n",
       "      <td>{'activation': 'identity', 'hidden_layer_sizes...</td>\n",
       "      <td>...</td>\n",
       "      <td>0.913043</td>\n",
       "      <td>0.753623</td>\n",
       "      <td>0.842857</td>\n",
       "      <td>0.065948</td>\n",
       "      <td>91</td>\n",
       "      <td>0.884058</td>\n",
       "      <td>0.851064</td>\n",
       "      <td>0.914894</td>\n",
       "      <td>0.883338</td>\n",
       "      <td>0.026063</td>\n",
       "    </tr>\n",
       "    <tr>\n",
       "      <th>4</th>\n",
       "      <td>0.226122</td>\n",
       "      <td>0.197053</td>\n",
       "      <td>0.001158</td>\n",
       "      <td>0.000493</td>\n",
       "      <td>identity</td>\n",
       "      <td>(1, 9)</td>\n",
       "      <td>adaptive</td>\n",
       "      <td>1000</td>\n",
       "      <td>lbfgs</td>\n",
       "      <td>{'activation': 'identity', 'hidden_layer_sizes...</td>\n",
       "      <td>...</td>\n",
       "      <td>0.942029</td>\n",
       "      <td>0.753623</td>\n",
       "      <td>0.852381</td>\n",
       "      <td>0.076625</td>\n",
       "      <td>81</td>\n",
       "      <td>0.891304</td>\n",
       "      <td>0.865248</td>\n",
       "      <td>0.914894</td>\n",
       "      <td>0.890482</td>\n",
       "      <td>0.020276</td>\n",
       "    </tr>\n",
       "  </tbody>\n",
       "</table>\n",
       "<p>5 rows × 21 columns</p>\n",
       "</div>"
      ],
      "text/plain": [
       "   mean_fit_time  std_fit_time  mean_score_time  std_score_time  \\\n",
       "0       0.333913      0.201537         0.001062        0.000160   \n",
       "1       0.124696      0.074822         0.000985        0.000283   \n",
       "2       0.123771      0.061240         0.000793        0.000043   \n",
       "3       0.223674      0.123618         0.000814        0.000048   \n",
       "4       0.226122      0.197053         0.001158        0.000493   \n",
       "\n",
       "  param_activation param_hidden_layer_sizes param_learning_rate  \\\n",
       "0         identity                   (1, 2)            adaptive   \n",
       "1         identity                   (1, 2)            constant   \n",
       "2         identity                   (2, 1)            adaptive   \n",
       "3         identity                   (2, 1)            constant   \n",
       "4         identity                   (1, 9)            adaptive   \n",
       "\n",
       "  param_max_iter param_solver  \\\n",
       "0           1000        lbfgs   \n",
       "1           1000        lbfgs   \n",
       "2           1000        lbfgs   \n",
       "3           1000        lbfgs   \n",
       "4           1000        lbfgs   \n",
       "\n",
       "                                              params       ...         \\\n",
       "0  {'activation': 'identity', 'hidden_layer_sizes...       ...          \n",
       "1  {'activation': 'identity', 'hidden_layer_sizes...       ...          \n",
       "2  {'activation': 'identity', 'hidden_layer_sizes...       ...          \n",
       "3  {'activation': 'identity', 'hidden_layer_sizes...       ...          \n",
       "4  {'activation': 'identity', 'hidden_layer_sizes...       ...          \n",
       "\n",
       "   split1_test_score  split2_test_score  mean_test_score  std_test_score  \\\n",
       "0           0.942029           0.753623         0.861905        0.078813   \n",
       "1           0.927536           0.753623         0.852381        0.072359   \n",
       "2           0.913043           0.753623         0.842857        0.065948   \n",
       "3           0.913043           0.753623         0.842857        0.065948   \n",
       "4           0.942029           0.753623         0.852381        0.076625   \n",
       "\n",
       "   rank_test_score  split0_train_score  split1_train_score  \\\n",
       "0               74            0.862319            0.865248   \n",
       "1               81            0.855072            0.836879   \n",
       "2               91            0.891304            0.858156   \n",
       "3               91            0.884058            0.851064   \n",
       "4               81            0.891304            0.865248   \n",
       "\n",
       "   split2_train_score  mean_train_score  std_train_score  \n",
       "0            0.914894          0.880820         0.024123  \n",
       "1            0.914894          0.868949         0.033326  \n",
       "2            0.914894          0.888118         0.023272  \n",
       "3            0.914894          0.883338         0.026063  \n",
       "4            0.914894          0.890482         0.020276  \n",
       "\n",
       "[5 rows x 21 columns]"
      ]
     },
     "execution_count": 57,
     "metadata": {},
     "output_type": "execute_result"
    }
   ],
   "source": [
    "df = pd.DataFrame(gs.cv_results_)\n",
    "df.head(5)"
   ]
  }
 ],
 "metadata": {
  "kernelspec": {
   "display_name": "Python 3",
   "language": "python",
   "name": "python3"
  },
  "language_info": {
   "codemirror_mode": {
    "name": "ipython",
    "version": 3
   },
   "file_extension": ".py",
   "mimetype": "text/x-python",
   "name": "python",
   "nbconvert_exporter": "python",
   "pygments_lexer": "ipython3",
   "version": "3.6.5"
  }
 },
 "nbformat": 4,
 "nbformat_minor": 2
}
