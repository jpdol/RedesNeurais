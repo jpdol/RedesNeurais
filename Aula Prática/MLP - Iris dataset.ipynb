{
 "cells": [
  {
   "attachments": {},
   "cell_type": "markdown",
   "metadata": {},
   "source": [
    "# Aula Prática - Desenvolvendo Redes Neurais Artificias com Dataset Iris\n",
    "\n",
    "O objetivo desta aula consiste em conduzir um processo de Aprendizado de Máquina com Redes Neurais Artificias Multilayer Perceptron para o problema de classificação das flores Iris e analisar os resultados obtidos.\n",
    "\n",
    "- Jean Phelipe de Oliveira Lima - 1615080096\n"
   ]
  },
  {
   "cell_type": "markdown",
   "metadata": {},
   "source": [
    "## Bibliotecas"
   ]
  },
  {
   "cell_type": "code",
   "execution_count": 124,
   "metadata": {},
   "outputs": [],
   "source": [
    "import pandas as pd\n",
    "from sklearn.model_selection import train_test_split\n",
    "from sklearn.neural_network import MLPClassifier\n",
    "from sklearn.metrics import confusion_matrix, accuracy_score, f1_score\n",
    "from matplotlib import pyplot as plt\n",
    "import numpy as np"
   ]
  },
  {
   "cell_type": "markdown",
   "metadata": {},
   "source": [
    "## Leitura - Iris Dataset"
   ]
  },
  {
   "cell_type": "code",
   "execution_count": 2,
   "metadata": {},
   "outputs": [
    {
     "data": {
      "text/html": [
       "<div>\n",
       "<style scoped>\n",
       "    .dataframe tbody tr th:only-of-type {\n",
       "        vertical-align: middle;\n",
       "    }\n",
       "\n",
       "    .dataframe tbody tr th {\n",
       "        vertical-align: top;\n",
       "    }\n",
       "\n",
       "    .dataframe thead th {\n",
       "        text-align: right;\n",
       "    }\n",
       "</style>\n",
       "<table border=\"1\" class=\"dataframe\">\n",
       "  <thead>\n",
       "    <tr style=\"text-align: right;\">\n",
       "      <th></th>\n",
       "      <th>sepal length</th>\n",
       "      <th>sepal width</th>\n",
       "      <th>petal length</th>\n",
       "      <th>petal width</th>\n",
       "      <th>class</th>\n",
       "    </tr>\n",
       "  </thead>\n",
       "  <tbody>\n",
       "    <tr>\n",
       "      <th>0</th>\n",
       "      <td>5.1</td>\n",
       "      <td>3.5</td>\n",
       "      <td>1.4</td>\n",
       "      <td>0.2</td>\n",
       "      <td>Iris-setosa</td>\n",
       "    </tr>\n",
       "    <tr>\n",
       "      <th>1</th>\n",
       "      <td>4.9</td>\n",
       "      <td>3.0</td>\n",
       "      <td>1.4</td>\n",
       "      <td>0.2</td>\n",
       "      <td>Iris-setosa</td>\n",
       "    </tr>\n",
       "    <tr>\n",
       "      <th>2</th>\n",
       "      <td>4.7</td>\n",
       "      <td>3.2</td>\n",
       "      <td>1.3</td>\n",
       "      <td>0.2</td>\n",
       "      <td>Iris-setosa</td>\n",
       "    </tr>\n",
       "    <tr>\n",
       "      <th>3</th>\n",
       "      <td>4.6</td>\n",
       "      <td>3.1</td>\n",
       "      <td>1.5</td>\n",
       "      <td>0.2</td>\n",
       "      <td>Iris-setosa</td>\n",
       "    </tr>\n",
       "    <tr>\n",
       "      <th>4</th>\n",
       "      <td>5.0</td>\n",
       "      <td>3.6</td>\n",
       "      <td>1.4</td>\n",
       "      <td>0.2</td>\n",
       "      <td>Iris-setosa</td>\n",
       "    </tr>\n",
       "  </tbody>\n",
       "</table>\n",
       "</div>"
      ],
      "text/plain": [
       "   sepal length  sepal width  petal length  petal width        class\n",
       "0           5.1          3.5           1.4          0.2  Iris-setosa\n",
       "1           4.9          3.0           1.4          0.2  Iris-setosa\n",
       "2           4.7          3.2           1.3          0.2  Iris-setosa\n",
       "3           4.6          3.1           1.5          0.2  Iris-setosa\n",
       "4           5.0          3.6           1.4          0.2  Iris-setosa"
      ]
     },
     "execution_count": 2,
     "metadata": {},
     "output_type": "execute_result"
    }
   ],
   "source": [
    "dataset = pd.read_csv('Iris.csv')\n",
    "dataset.head()"
   ]
  },
  {
   "cell_type": "markdown",
   "metadata": {},
   "source": [
    "## Holdout 80/20"
   ]
  },
  {
   "cell_type": "code",
   "execution_count": 3,
   "metadata": {},
   "outputs": [],
   "source": [
    "y = dataset['class']\n",
    "x = dataset.drop(['class'], axis=1)\n",
    "X_train, X_test, Y_train, Y_test = train_test_split(x, y, test_size=0.20)"
   ]
  },
  {
   "cell_type": "markdown",
   "metadata": {},
   "source": [
    "# Redes Neurais Artificias Propostas:"
   ]
  },
  {
   "cell_type": "markdown",
   "metadata": {},
   "source": [
    "## RNA #1\n",
    "- Camadas ocultas: 1\n",
    "- Número de Neurônios na(s) camada(s) oculta(s): 4\n",
    "- Taxa de aprendizagem = 0,05\n",
    "- Batch_size = 1\n",
    "- Função de Ativação: Logistic"
   ]
  },
  {
   "cell_type": "code",
   "execution_count": 4,
   "metadata": {},
   "outputs": [
    {
     "name": "stdout",
     "output_type": "stream",
     "text": [
      "Acurácia: 0.9666666666666667\n",
      "F1-Score: [1.         0.95238095 0.92307692]\n"
     ]
    }
   ],
   "source": [
    "MLP1 = MLPClassifier(hidden_layer_sizes=(4),\n",
    "                     max_iter=50, \n",
    "                     activation='logistic', \n",
    "                     learning_rate='constant',\n",
    "                     learning_rate_init=0.05,\n",
    "                     batch_size = 1)\n",
    "MLP1.fit(X_train, Y_train)\n",
    "\n",
    "previsaoMLP1 = MLP1.predict(X_test)\n",
    "print('Acurácia:', accuracy_score(Y_test, previsaoMLP1))\n",
    "print('F1-Score:', f1_score(Y_test, previsaoMLP1, average=None))"
   ]
  },
  {
   "cell_type": "markdown",
   "metadata": {},
   "source": [
    "## RNA #2\n",
    "- Camadas ocultas: 1\n",
    "- Número de Neurônios na(s) camada(s) oculta(s): 3\n",
    "- Taxa de aprendizagem = 0,01\n",
    "- Batch_size = 1\n",
    "- Função de Ativação: ReLU"
   ]
  },
  {
   "cell_type": "code",
   "execution_count": 5,
   "metadata": {},
   "outputs": [
    {
     "name": "stdout",
     "output_type": "stream",
     "text": [
      "Acurácia: 0.8666666666666667\n",
      "F1-Score: [1.         0.77777778 0.75      ]\n"
     ]
    }
   ],
   "source": [
    "MLP2 = MLPClassifier(hidden_layer_sizes=(3),\n",
    "                     max_iter=50, \n",
    "                     activation='relu', \n",
    "                     learning_rate='constant',\n",
    "                     learning_rate_init=0.01,\n",
    "                     batch_size = 1)\n",
    "MLP2.fit(X_train, Y_train)\n",
    "\n",
    "previsaoMLP2 = MLP2.predict(X_test)\n",
    "print('Acurácia:', accuracy_score(Y_test, previsaoMLP2))\n",
    "print('F1-Score:', f1_score(Y_test, previsaoMLP2, average=None))"
   ]
  },
  {
   "cell_type": "markdown",
   "metadata": {},
   "source": [
    "## RNA #3\n",
    "- Camadas ocultas: 1\n",
    "- Número de Neurônios na(s) camada(s) oculta(s): 5\n",
    "- Taxa de aprendizagem = 0,01\n",
    "- Batch_size = 1\n",
    "- Função de Ativação: Logistic"
   ]
  },
  {
   "cell_type": "code",
   "execution_count": 6,
   "metadata": {},
   "outputs": [
    {
     "name": "stdout",
     "output_type": "stream",
     "text": [
      "Acurácia: 0.9666666666666667\n",
      "F1-Score: [1.         0.95238095 0.92307692]\n"
     ]
    }
   ],
   "source": [
    "MLP3 = MLPClassifier(hidden_layer_sizes=(5),\n",
    "                     max_iter=50, \n",
    "                     activation='logistic', \n",
    "                     learning_rate='constant',\n",
    "                     learning_rate_init=0.01,\n",
    "                     batch_size = 1)\n",
    "MLP3.fit(X_train, Y_train)\n",
    "\n",
    "previsaoMLP3 = MLP3.predict(X_test)\n",
    "print('Acurácia:', accuracy_score(Y_test, previsaoMLP3))\n",
    "print('F1-Score:', f1_score(Y_test, previsaoMLP3, average=None))"
   ]
  },
  {
   "cell_type": "markdown",
   "metadata": {},
   "source": [
    "## RNA #4\n",
    "- Camadas ocultas: 2\n",
    "- Número de Neurônios na(s) camada(s) oculta(s): 3 - 4\n",
    "- Taxa de aprendizagem = 0,01\n",
    "- Batch_size = 1\n",
    "- Função de Ativação: ReLU"
   ]
  },
  {
   "cell_type": "code",
   "execution_count": 7,
   "metadata": {},
   "outputs": [
    {
     "name": "stdout",
     "output_type": "stream",
     "text": [
      "Acurácia: 0.9666666666666667\n",
      "F1-Score: [1.         0.95652174 0.90909091]\n"
     ]
    }
   ],
   "source": [
    "MLP4 = MLPClassifier(hidden_layer_sizes=(3,4),\n",
    "                     max_iter=50, \n",
    "                     activation='relu', \n",
    "                     learning_rate='constant',\n",
    "                     learning_rate_init=0.01,\n",
    "                     batch_size = 1)\n",
    "MLP4.fit(X_train, Y_train)\n",
    "\n",
    "previsaoMLP4 = MLP4.predict(X_test)\n",
    "print('Acurácia:', accuracy_score(Y_test, previsaoMLP4))\n",
    "print('F1-Score:', f1_score(Y_test, previsaoMLP4, average=None))"
   ]
  },
  {
   "cell_type": "markdown",
   "metadata": {},
   "source": [
    "## RNA #5\n",
    "- Camadas ocultas: 2\n",
    "- Número de Neurônios na(s) camada(s) oculta(s): 2 - 2\n",
    "- Taxa de aprendizagem = 0,05\n",
    "- Batch_size = 1\n",
    "- Função de Ativação: Logistic"
   ]
  },
  {
   "cell_type": "code",
   "execution_count": 13,
   "metadata": {},
   "outputs": [
    {
     "name": "stdout",
     "output_type": "stream",
     "text": [
      "Acurácia: 0.9333333333333333\n",
      "F1-Score: [1.         0.91666667 0.8       ]\n"
     ]
    }
   ],
   "source": [
    "MLP5 = MLPClassifier(hidden_layer_sizes=(2,2),\n",
    "                     max_iter=50, \n",
    "                     activation='logistic', \n",
    "                     learning_rate='constant',\n",
    "                     learning_rate_init=0.05,\n",
    "                     batch_size = 1)\n",
    "MLP5.fit(X_train, Y_train)\n",
    "\n",
    "previsaoMLP5 = MLP5.predict(X_test)\n",
    "print('Acurácia:', accuracy_score(Y_test, previsaoMLP5))\n",
    "print('F1-Score:', f1_score(Y_test, previsaoMLP5, average=None))"
   ]
  },
  {
   "cell_type": "markdown",
   "metadata": {},
   "source": [
    "## RNA #6\n",
    "- Camadas ocultas: 2\n",
    "- Número de Neurônios na(s) camada(s) oculta(s): 5 - 4\n",
    "- Taxa de aprendizagem = 0,01\n",
    "- Batch_size = 1\n",
    "- Função de Ativação: ReLU"
   ]
  },
  {
   "cell_type": "code",
   "execution_count": 16,
   "metadata": {},
   "outputs": [
    {
     "name": "stdout",
     "output_type": "stream",
     "text": [
      "Acurácia: 0.9333333333333333\n",
      "F1-Score: [1.         0.9        0.85714286]\n"
     ]
    }
   ],
   "source": [
    "MLP6 = MLPClassifier(hidden_layer_sizes=(5,4),\n",
    "                     max_iter=50, \n",
    "                     activation='relu', \n",
    "                     learning_rate='constant',\n",
    "                     learning_rate_init=0.01,\n",
    "                     batch_size = 1)\n",
    "MLP6.fit(X_train, Y_train)\n",
    "\n",
    "previsaoMLP6 = MLP6.predict(X_test)\n",
    "print('Acurácia:', accuracy_score(Y_test, previsaoMLP6))\n",
    "print('F1-Score:', f1_score(Y_test, previsaoMLP6, average=None))"
   ]
  },
  {
   "cell_type": "markdown",
   "metadata": {},
   "source": [
    "# Resultados"
   ]
  },
  {
   "cell_type": "code",
   "execution_count": 108,
   "metadata": {},
   "outputs": [],
   "source": [
    "fs1 = f1_score(Y_test, previsaoMLP1, average=None)\n",
    "fs2 = f1_score(Y_test, previsaoMLP2, average=None)\n",
    "fs3 = f1_score(Y_test, previsaoMLP3, average=None)\n",
    "fs4 = f1_score(Y_test, previsaoMLP4, average=None)\n",
    "fs5 = f1_score(Y_test, previsaoMLP5, average=None)\n",
    "fs6 = f1_score(Y_test, previsaoMLP6, average=None)"
   ]
  },
  {
   "cell_type": "code",
   "execution_count": 109,
   "metadata": {},
   "outputs": [],
   "source": [
    "matriz_fs = []\n",
    "\n",
    "matriz_fs.append(fs1)\n",
    "matriz_fs.append(fs2)\n",
    "matriz_fs.append(fs3)\n",
    "matriz_fs.append(fs4)\n",
    "matriz_fs.append(fs5)\n",
    "matriz_fs.append(fs6)"
   ]
  },
  {
   "cell_type": "code",
   "execution_count": 110,
   "metadata": {},
   "outputs": [],
   "source": [
    "soma_fs = []\n",
    "pos_maior_fs = []\n",
    "\n",
    "for i in range(len(matriz_fs)):\n",
    "    acum_fs = 0\n",
    "    for j in range(len(matriz_fs[i])):\n",
    "        acum_fs += matriz_fs[i][j]\n",
    "    soma_fs.append(acum_fs)\n",
    "\n",
    "\n",
    "maximo = max(soma_fs)\n",
    "\n",
    "for i in range(len(soma_fs)):\n",
    "    if soma_fs[i]==maximo:\n",
    "        pos_maior_fs.append(i)"
   ]
  },
  {
   "cell_type": "code",
   "execution_count": 111,
   "metadata": {},
   "outputs": [],
   "source": [
    "def melhores_fs(pos_maior_fs):\n",
    "    for i in pos_maior_fs:\n",
    "        print('RNA #%d'%(i+1))"
   ]
  },
  {
   "cell_type": "markdown",
   "metadata": {},
   "source": [
    "As RNAs que tiveram melhor resultado, baseado no F1-Score, foram:"
   ]
  },
  {
   "cell_type": "code",
   "execution_count": 112,
   "metadata": {},
   "outputs": [
    {
     "name": "stdout",
     "output_type": "stream",
     "text": [
      "RNA #1\n",
      "RNA #3\n"
     ]
    }
   ],
   "source": [
    "melhores_fs(pos_maior_fs)"
   ]
  },
  {
   "cell_type": "markdown",
   "metadata": {},
   "source": [
    "### Matrizes de Confusão"
   ]
  },
  {
   "cell_type": "markdown",
   "metadata": {},
   "source": [
    "- RNA #1:"
   ]
  },
  {
   "cell_type": "code",
   "execution_count": 113,
   "metadata": {},
   "outputs": [
    {
     "data": {
      "text/plain": [
       "array([[13,  0,  0],\n",
       "       [ 0, 10,  1],\n",
       "       [ 0,  0,  6]])"
      ]
     },
     "execution_count": 113,
     "metadata": {},
     "output_type": "execute_result"
    }
   ],
   "source": [
    "confusion_matrix(Y_test,previsaoMLP1)"
   ]
  },
  {
   "cell_type": "markdown",
   "metadata": {},
   "source": [
    "- RNA #3:"
   ]
  },
  {
   "cell_type": "code",
   "execution_count": 114,
   "metadata": {},
   "outputs": [
    {
     "data": {
      "text/plain": [
       "array([[13,  0,  0],\n",
       "       [ 0, 10,  1],\n",
       "       [ 0,  0,  6]])"
      ]
     },
     "execution_count": 114,
     "metadata": {},
     "output_type": "execute_result"
    }
   ],
   "source": [
    "confusion_matrix(Y_test,previsaoMLP3)"
   ]
  },
  {
   "cell_type": "markdown",
   "metadata": {},
   "source": [
    " "
   ]
  },
  {
   "cell_type": "markdown",
   "metadata": {},
   "source": [
    "### Distribuição das Médias do F1-Score para os dados dos testes"
   ]
  },
  {
   "cell_type": "code",
   "execution_count": 134,
   "metadata": {},
   "outputs": [
    {
     "data": {
      "image/png": "[encoded data removed]",
      "text/plain": [
       "<Figure size 432x288 with 1 Axes>"
      ]
     },
     "metadata": {},
     "output_type": "display_data"
    },
    {
     "name": "stdout",
     "output_type": "stream",
     "text": [
      "Parâmetros da Distribuição:\n",
      "\n",
      "Média: 0.9232286500402443\n",
      "Desvio Padrão: 0.041514225414036425\n"
     ]
    }
   ],
   "source": [
    "media_fs = []\n",
    "mlps = ['MLP1', 'MLP2', 'MLP3', 'MLP4', 'MLP5', 'MLP6']\n",
    "for i in range(len(soma_fs)):\n",
    "    media_fs.append(soma_fs[i]/3)\n",
    "\n",
    "plt.title('Distribuição das Médias do F1-Score para os dados dos testes\\n')\n",
    "plt.plot(mlps, media_fs)\n",
    "plt.show()\n",
    "\n",
    "media_fs = np.array(media_fs)\n",
    "\n",
    "print('Parâmetros da Distribuição:\\n')\n",
    "print('Média:', media_fs.mean())\n",
    "print('Desvio Padrão:', media_fs.std())"
   ]
  },
  {
   "cell_type": "markdown",
   "metadata": {},
   "source": [
    "#### Pelos dados acima podemos constatar que o desempenho das 6 RNA apresentadas foi heterogêneo."
   ]
  },
  {
   "cell_type": "markdown",
   "metadata": {},
   "source": [
    " "
   ]
  },
  {
   "cell_type": "markdown",
   "metadata": {},
   "source": [
    "### A RNA com mais neurônios ocultos é essencialmente a melhor?"
   ]
  },
  {
   "cell_type": "markdown",
   "metadata": {},
   "source": [
    "Não. As RNAs com melhores resultados foram as #1 e #3, que possuiam, respectivamente, 4 e 5 neurônios ocultos.\n",
    "Enquanto as RNAs #4, #5 e #6, com, respectivamente, 7, 4 e 9 neurônios ocultos, obtiveram menor desempenho."
   ]
  },
  {
   "cell_type": "markdown",
   "metadata": {},
   "source": [
    "### As RNAs com uma única camada oculta tiveram F1-Score médio igual ou superior ao das redes com duas camadas ocultas? Isso ocorre em todo problema?"
   ]
  },
  {
   "cell_type": "code",
   "execution_count": 135,
   "metadata": {},
   "outputs": [
    {
     "name": "stdout",
     "output_type": "stream",
     "text": [
      "Média do F1-Score para as RNAs com uma camada oculta: 0.9005392755392756\n"
     ]
    }
   ],
   "source": [
    "print('Média do F1-Score para as RNAs com uma camada oculta:', media_fs[:2].mean())"
   ]
  },
  {
   "cell_type": "code",
   "execution_count": 136,
   "metadata": {},
   "outputs": [
    {
     "name": "stdout",
     "output_type": "stream",
     "text": [
      "Média do F1-Score para as RNAs com duas camadas ocultas: 0.9266024635589852\n"
     ]
    }
   ],
   "source": [
    "print('Média do F1-Score para as RNAs com duas camadas ocultas:', media_fs[3:].mean())"
   ]
  },
  {
   "cell_type": "markdown",
   "metadata": {},
   "source": [
    "As RNAs com uma camada tiveram F1-Score médio inferior ao F1-Score das RNAs com duas camadas ocultas.\n",
    "No entanto, apenas o número de camadas não implica, diretamente, neste resultado, que varia de acordo com o problema, tanto que para este problema em questão, as RNAs que obtiveram melhor resultado foram justamente as com apenas uma única camada oculta."
   ]
  }
 ],
 "metadata": {
  "kernelspec": {
   "display_name": "Python 3",
   "language": "python",
   "name": "python3"
  },
  "language_info": {
   "codemirror_mode": {
    "name": "ipython",
    "version": 3
   },
   "file_extension": ".py",
   "mimetype": "text/x-python",
   "name": "python",
   "nbconvert_exporter": "python",
   "pygments_lexer": "ipython3",
   "version": "3.6.5"
  }
 },
 "nbformat": 4,
 "nbformat_minor": 2
}
